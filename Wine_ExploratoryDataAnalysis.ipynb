{
 "cells": [
  {
   "cell_type": "markdown",
   "metadata": {},
   "source": [
    "## Exploratory Data Analysis for Wine Quality\n",
    "\n",
    "Some basic exploration of wine data for Neural Computing course!"
   ]
  },
  {
   "cell_type": "code",
   "execution_count": 1,
   "metadata": {
    "collapsed": true
   },
   "outputs": [],
   "source": [
    "import numpy as np\n",
    "import pandas as pd\n",
    "%matplotlib inline\n",
    "import matplotlib.pyplot as plt\n",
    "import seaborn as sns"
   ]
  },
  {
   "cell_type": "code",
   "execution_count": 2,
   "metadata": {
    "collapsed": true
   },
   "outputs": [],
   "source": [
    "df1 = pd.read_csv(\"winequality-white.csv\")"
   ]
  },
  {
   "cell_type": "code",
   "execution_count": 3,
   "metadata": {
    "collapsed": true
   },
   "outputs": [],
   "source": [
    "inputs = df1.iloc[:, 0:11]\n",
    "target = df1.iloc[:, 11]"
   ]
  },
  {
   "cell_type": "code",
   "execution_count": 4,
   "metadata": {},
   "outputs": [
    {
     "data": {
      "text/plain": [
       "<matplotlib.axes._subplots.AxesSubplot at 0x1a15047c18>"
      ]
     },
     "execution_count": 4,
     "metadata": {},
     "output_type": "execute_result"
    },
    {
     "data": {
      "image/png": "[encoded data removed]",
      "text/plain": [
       "<matplotlib.figure.Figure at 0x1a150476a0>"
      ]
     },
     "metadata": {},
     "output_type": "display_data"
    }
   ],
   "source": [
    "corr = inputs.corr()\n",
    "sns.heatmap(corr, cmap=\"YlGnBu\")"
   ]
  },
  {
   "cell_type": "code",
   "execution_count": 54,
   "metadata": {
    "collapsed": true
   },
   "outputs": [],
   "source": [
    "def WineQuality(x):\n",
    "    if x < 7 :\n",
    "        return '1'\n",
    "    else:\n",
    "        return '2'\n",
    "\n",
    "df1['quality'] = df1['quality'].apply(lambda x : WineQuality(x))"
   ]
  },
  {
   "cell_type": "code",
   "execution_count": 44,
   "metadata": {},
   "outputs": [
    {
     "data": {
      "text/html": [
       "<div>\n",
       "<style>\n",
       "    .dataframe thead tr:only-child th {\n",
       "        text-align: right;\n",
       "    }\n",
       "\n",
       "    .dataframe thead th {\n",
       "        text-align: left;\n",
       "    }\n",
       "\n",
       "    .dataframe tbody tr th {\n",
       "        vertical-align: top;\n",
       "    }\n",
       "</style>\n",
       "<table border=\"1\" class=\"dataframe\">\n",
       "  <thead>\n",
       "    <tr style=\"text-align: right;\">\n",
       "      <th></th>\n",
       "      <th>fixed acidity</th>\n",
       "      <th>volatile acidity</th>\n",
       "      <th>citric acid</th>\n",
       "      <th>residual sugar</th>\n",
       "      <th>chlorides</th>\n",
       "      <th>free sulfur dioxide</th>\n",
       "      <th>total sulfur dioxide</th>\n",
       "      <th>density</th>\n",
       "      <th>pH</th>\n",
       "      <th>sulphates</th>\n",
       "      <th>alcohol</th>\n",
       "    </tr>\n",
       "    <tr>\n",
       "      <th>quality</th>\n",
       "      <th></th>\n",
       "      <th></th>\n",
       "      <th></th>\n",
       "      <th></th>\n",
       "      <th></th>\n",
       "      <th></th>\n",
       "      <th></th>\n",
       "      <th></th>\n",
       "      <th></th>\n",
       "      <th></th>\n",
       "      <th></th>\n",
       "    </tr>\n",
       "  </thead>\n",
       "  <tbody>\n",
       "    <tr>\n",
       "      <th>good</th>\n",
       "      <td>6.725142</td>\n",
       "      <td>0.265349</td>\n",
       "      <td>0.326057</td>\n",
       "      <td>5.261509</td>\n",
       "      <td>0.038160</td>\n",
       "      <td>34.550472</td>\n",
       "      <td>125.245283</td>\n",
       "      <td>0.992412</td>\n",
       "      <td>3.215132</td>\n",
       "      <td>0.500142</td>\n",
       "      <td>11.416022</td>\n",
       "    </tr>\n",
       "    <tr>\n",
       "      <th>poor</th>\n",
       "      <td>6.890594</td>\n",
       "      <td>0.281802</td>\n",
       "      <td>0.336438</td>\n",
       "      <td>6.703478</td>\n",
       "      <td>0.047875</td>\n",
       "      <td>35.517327</td>\n",
       "      <td>141.982934</td>\n",
       "      <td>0.994474</td>\n",
       "      <td>3.180847</td>\n",
       "      <td>0.487004</td>\n",
       "      <td>10.265215</td>\n",
       "    </tr>\n",
       "  </tbody>\n",
       "</table>\n",
       "</div>"
      ],
      "text/plain": [
       "         fixed acidity  volatile acidity  citric acid  residual sugar  \\\n",
       "quality                                                                 \n",
       "good          6.725142          0.265349     0.326057        5.261509   \n",
       "poor          6.890594          0.281802     0.336438        6.703478   \n",
       "\n",
       "         chlorides  free sulfur dioxide  total sulfur dioxide   density  \\\n",
       "quality                                                                   \n",
       "good      0.038160            34.550472            125.245283  0.992412   \n",
       "poor      0.047875            35.517327            141.982934  0.994474   \n",
       "\n",
       "               pH  sulphates    alcohol  \n",
       "quality                                  \n",
       "good     3.215132   0.500142  11.416022  \n",
       "poor     3.180847   0.487004  10.265215  "
      ]
     },
     "execution_count": 44,
     "metadata": {},
     "output_type": "execute_result"
    }
   ],
   "source": [
    "df1.groupby(['quality']).mean()"
   ]
  },
  {
   "cell_type": "code",
   "execution_count": 45,
   "metadata": {},
   "outputs": [
    {
     "data": {
      "text/html": [
       "<div>\n",
       "<style>\n",
       "    .dataframe thead tr:only-child th {\n",
       "        text-align: right;\n",
       "    }\n",
       "\n",
       "    .dataframe thead th {\n",
       "        text-align: left;\n",
       "    }\n",
       "\n",
       "    .dataframe tbody tr th {\n",
       "        vertical-align: top;\n",
       "    }\n",
       "</style>\n",
       "<table border=\"1\" class=\"dataframe\">\n",
       "  <thead>\n",
       "    <tr style=\"text-align: right;\">\n",
       "      <th></th>\n",
       "      <th>fixed acidity</th>\n",
       "      <th>volatile acidity</th>\n",
       "      <th>citric acid</th>\n",
       "      <th>residual sugar</th>\n",
       "      <th>chlorides</th>\n",
       "      <th>free sulfur dioxide</th>\n",
       "      <th>total sulfur dioxide</th>\n",
       "      <th>density</th>\n",
       "      <th>pH</th>\n",
       "      <th>sulphates</th>\n",
       "      <th>alcohol</th>\n",
       "    </tr>\n",
       "    <tr>\n",
       "      <th>quality</th>\n",
       "      <th></th>\n",
       "      <th></th>\n",
       "      <th></th>\n",
       "      <th></th>\n",
       "      <th></th>\n",
       "      <th></th>\n",
       "      <th></th>\n",
       "      <th></th>\n",
       "      <th></th>\n",
       "      <th></th>\n",
       "      <th></th>\n",
       "    </tr>\n",
       "  </thead>\n",
       "  <tbody>\n",
       "    <tr>\n",
       "      <th>good</th>\n",
       "      <td>0.768798</td>\n",
       "      <td>0.094097</td>\n",
       "      <td>0.080288</td>\n",
       "      <td>4.290845</td>\n",
       "      <td>0.011145</td>\n",
       "      <td>13.797146</td>\n",
       "      <td>32.724848</td>\n",
       "      <td>0.002772</td>\n",
       "      <td>0.157185</td>\n",
       "      <td>0.133044</td>\n",
       "      <td>1.255209</td>\n",
       "    </tr>\n",
       "    <tr>\n",
       "      <th>poor</th>\n",
       "      <td>0.860108</td>\n",
       "      <td>0.102293</td>\n",
       "      <td>0.129959</td>\n",
       "      <td>5.225048</td>\n",
       "      <td>0.023548</td>\n",
       "      <td>17.787825</td>\n",
       "      <td>44.145402</td>\n",
       "      <td>0.002894</td>\n",
       "      <td>0.148414</td>\n",
       "      <td>0.108167</td>\n",
       "      <td>1.100576</td>\n",
       "    </tr>\n",
       "  </tbody>\n",
       "</table>\n",
       "</div>"
      ],
      "text/plain": [
       "         fixed acidity  volatile acidity  citric acid  residual sugar  \\\n",
       "quality                                                                 \n",
       "good          0.768798          0.094097     0.080288        4.290845   \n",
       "poor          0.860108          0.102293     0.129959        5.225048   \n",
       "\n",
       "         chlorides  free sulfur dioxide  total sulfur dioxide   density  \\\n",
       "quality                                                                   \n",
       "good      0.011145            13.797146             32.724848  0.002772   \n",
       "poor      0.023548            17.787825             44.145402  0.002894   \n",
       "\n",
       "               pH  sulphates   alcohol  \n",
       "quality                                 \n",
       "good     0.157185   0.133044  1.255209  \n",
       "poor     0.148414   0.108167  1.100576  "
      ]
     },
     "execution_count": 45,
     "metadata": {},
     "output_type": "execute_result"
    }
   ],
   "source": [
    "df1.groupby(['quality']).std()"
   ]
  },
  {
   "cell_type": "code",
   "execution_count": 57,
   "metadata": {
    "collapsed": true
   },
   "outputs": [],
   "source": [
    "cols = list(df1.columns)\n",
    "cols.remove('quality')\n",
    "for col in cols:\n",
    "    df1[col] = (df1[col] - df1[col].mean())/df1[col].std()\n"
   ]
  },
  {
   "cell_type": "code",
   "execution_count": 12,
   "metadata": {},
   "outputs": [
    {
     "data": {
      "text/html": [
       "<div>\n",
       "<style>\n",
       "    .dataframe thead tr:only-child th {\n",
       "        text-align: right;\n",
       "    }\n",
       "\n",
       "    .dataframe thead th {\n",
       "        text-align: left;\n",
       "    }\n",
       "\n",
       "    .dataframe tbody tr th {\n",
       "        vertical-align: top;\n",
       "    }\n",
       "</style>\n",
       "<table border=\"1\" class=\"dataframe\">\n",
       "  <thead>\n",
       "    <tr style=\"text-align: right;\">\n",
       "      <th></th>\n",
       "      <th>fixed acidity</th>\n",
       "      <th>volatile acidity</th>\n",
       "      <th>citric acid</th>\n",
       "      <th>residual sugar</th>\n",
       "      <th>chlorides</th>\n",
       "      <th>free sulfur dioxide</th>\n",
       "      <th>total sulfur dioxide</th>\n",
       "      <th>density</th>\n",
       "      <th>pH</th>\n",
       "      <th>sulphates</th>\n",
       "      <th>alcohol</th>\n",
       "    </tr>\n",
       "    <tr>\n",
       "      <th>quality</th>\n",
       "      <th></th>\n",
       "      <th></th>\n",
       "      <th></th>\n",
       "      <th></th>\n",
       "      <th></th>\n",
       "      <th></th>\n",
       "      <th></th>\n",
       "      <th></th>\n",
       "      <th></th>\n",
       "      <th></th>\n",
       "      <th></th>\n",
       "    </tr>\n",
       "  </thead>\n",
       "  <tbody>\n",
       "    <tr>\n",
       "      <th>1</th>\n",
       "      <td>0.042431</td>\n",
       "      <td>0.035325</td>\n",
       "      <td>0.018565</td>\n",
       "      <td>0.061526</td>\n",
       "      <td>0.096225</td>\n",
       "      <td>0.012303</td>\n",
       "      <td>0.085234</td>\n",
       "      <td>0.149168</td>\n",
       "      <td>-0.049138</td>\n",
       "      <td>-0.024913</td>\n",
       "      <td>-0.202379</td>\n",
       "    </tr>\n",
       "    <tr>\n",
       "      <th>2</th>\n",
       "      <td>-0.153633</td>\n",
       "      <td>-0.127904</td>\n",
       "      <td>-0.067220</td>\n",
       "      <td>-0.222771</td>\n",
       "      <td>-0.348407</td>\n",
       "      <td>-0.044547</td>\n",
       "      <td>-0.308611</td>\n",
       "      <td>-0.540102</td>\n",
       "      <td>0.177916</td>\n",
       "      <td>0.090204</td>\n",
       "      <td>0.732764</td>\n",
       "    </tr>\n",
       "  </tbody>\n",
       "</table>\n",
       "</div>"
      ],
      "text/plain": [
       "         fixed acidity  volatile acidity  citric acid  residual sugar  \\\n",
       "quality                                                                 \n",
       "1             0.042431          0.035325     0.018565        0.061526   \n",
       "2            -0.153633         -0.127904    -0.067220       -0.222771   \n",
       "\n",
       "         chlorides  free sulfur dioxide  total sulfur dioxide   density  \\\n",
       "quality                                                                   \n",
       "1         0.096225             0.012303              0.085234  0.149168   \n",
       "2        -0.348407            -0.044547             -0.308611 -0.540102   \n",
       "\n",
       "               pH  sulphates   alcohol  \n",
       "quality                                 \n",
       "1       -0.049138  -0.024913 -0.202379  \n",
       "2        0.177916   0.090204  0.732764  "
      ]
     },
     "execution_count": 12,
     "metadata": {},
     "output_type": "execute_result"
    }
   ],
   "source": [
    "df1.groupby(['quality']).mean()"
   ]
  },
  {
   "cell_type": "code",
   "execution_count": 13,
   "metadata": {},
   "outputs": [
    {
     "data": {
      "text/html": [
       "<div>\n",
       "<style>\n",
       "    .dataframe thead tr:only-child th {\n",
       "        text-align: right;\n",
       "    }\n",
       "\n",
       "    .dataframe thead th {\n",
       "        text-align: left;\n",
       "    }\n",
       "\n",
       "    .dataframe tbody tr th {\n",
       "        vertical-align: top;\n",
       "    }\n",
       "</style>\n",
       "<table border=\"1\" class=\"dataframe\">\n",
       "  <thead>\n",
       "    <tr style=\"text-align: right;\">\n",
       "      <th></th>\n",
       "      <th>fixed acidity</th>\n",
       "      <th>volatile acidity</th>\n",
       "      <th>citric acid</th>\n",
       "      <th>residual sugar</th>\n",
       "      <th>chlorides</th>\n",
       "      <th>free sulfur dioxide</th>\n",
       "      <th>total sulfur dioxide</th>\n",
       "      <th>density</th>\n",
       "      <th>pH</th>\n",
       "      <th>sulphates</th>\n",
       "      <th>alcohol</th>\n",
       "    </tr>\n",
       "    <tr>\n",
       "      <th>quality</th>\n",
       "      <th></th>\n",
       "      <th></th>\n",
       "      <th></th>\n",
       "      <th></th>\n",
       "      <th></th>\n",
       "      <th></th>\n",
       "      <th></th>\n",
       "      <th></th>\n",
       "      <th></th>\n",
       "      <th></th>\n",
       "      <th></th>\n",
       "    </tr>\n",
       "  </thead>\n",
       "  <tbody>\n",
       "    <tr>\n",
       "      <th>1</th>\n",
       "      <td>1.019245</td>\n",
       "      <td>1.014867</td>\n",
       "      <td>1.073866</td>\n",
       "      <td>1.030163</td>\n",
       "      <td>1.077794</td>\n",
       "      <td>1.045904</td>\n",
       "      <td>1.038763</td>\n",
       "      <td>0.967671</td>\n",
       "      <td>0.982869</td>\n",
       "      <td>0.947790</td>\n",
       "      <td>0.894326</td>\n",
       "    </tr>\n",
       "    <tr>\n",
       "      <th>2</th>\n",
       "      <td>0.911040</td>\n",
       "      <td>0.933549</td>\n",
       "      <td>0.663430</td>\n",
       "      <td>0.845977</td>\n",
       "      <td>0.510126</td>\n",
       "      <td>0.811256</td>\n",
       "      <td>0.770031</td>\n",
       "      <td>0.926713</td>\n",
       "      <td>1.040953</td>\n",
       "      <td>1.165767</td>\n",
       "      <td>1.019981</td>\n",
       "    </tr>\n",
       "  </tbody>\n",
       "</table>\n",
       "</div>"
      ],
      "text/plain": [
       "         fixed acidity  volatile acidity  citric acid  residual sugar  \\\n",
       "quality                                                                 \n",
       "1             1.019245          1.014867     1.073866        1.030163   \n",
       "2             0.911040          0.933549     0.663430        0.845977   \n",
       "\n",
       "         chlorides  free sulfur dioxide  total sulfur dioxide   density  \\\n",
       "quality                                                                   \n",
       "1         1.077794             1.045904              1.038763  0.967671   \n",
       "2         0.510126             0.811256              0.770031  0.926713   \n",
       "\n",
       "               pH  sulphates   alcohol  \n",
       "quality                                 \n",
       "1        0.982869   0.947790  0.894326  \n",
       "2        1.040953   1.165767  1.019981  "
      ]
     },
     "execution_count": 13,
     "metadata": {},
     "output_type": "execute_result"
    }
   ],
   "source": [
    "df1.groupby(['quality']).std()"
   ]
  },
  {
   "cell_type": "code",
   "execution_count": 14,
   "metadata": {},
   "outputs": [
    {
     "data": {
      "text/html": [
       "<div>\n",
       "<style>\n",
       "    .dataframe thead tr:only-child th {\n",
       "        text-align: right;\n",
       "    }\n",
       "\n",
       "    .dataframe thead th {\n",
       "        text-align: left;\n",
       "    }\n",
       "\n",
       "    .dataframe tbody tr th {\n",
       "        vertical-align: top;\n",
       "    }\n",
       "</style>\n",
       "<table border=\"1\" class=\"dataframe\">\n",
       "  <thead>\n",
       "    <tr style=\"text-align: right;\">\n",
       "      <th></th>\n",
       "      <th>fixed acidity</th>\n",
       "      <th>volatile acidity</th>\n",
       "      <th>citric acid</th>\n",
       "      <th>residual sugar</th>\n",
       "      <th>chlorides</th>\n",
       "      <th>free sulfur dioxide</th>\n",
       "      <th>total sulfur dioxide</th>\n",
       "      <th>density</th>\n",
       "      <th>pH</th>\n",
       "      <th>sulphates</th>\n",
       "      <th>alcohol</th>\n",
       "      <th>quality</th>\n",
       "    </tr>\n",
       "  </thead>\n",
       "  <tbody>\n",
       "    <tr>\n",
       "      <th>0</th>\n",
       "      <td>0.172079</td>\n",
       "      <td>-0.081762</td>\n",
       "      <td>0.213258</td>\n",
       "      <td>2.821061</td>\n",
       "      <td>-0.035351</td>\n",
       "      <td>0.569873</td>\n",
       "      <td>0.744489</td>\n",
       "      <td>2.331274</td>\n",
       "      <td>-1.246794</td>\n",
       "      <td>-0.349149</td>\n",
       "      <td>-1.393010</td>\n",
       "      <td>1</td>\n",
       "    </tr>\n",
       "    <tr>\n",
       "      <th>1</th>\n",
       "      <td>-0.657434</td>\n",
       "      <td>0.215874</td>\n",
       "      <td>0.047996</td>\n",
       "      <td>-0.944669</td>\n",
       "      <td>0.147732</td>\n",
       "      <td>-1.252891</td>\n",
       "      <td>-0.149669</td>\n",
       "      <td>-0.009153</td>\n",
       "      <td>0.739953</td>\n",
       "      <td>0.001342</td>\n",
       "      <td>-0.824192</td>\n",
       "      <td>1</td>\n",
       "    </tr>\n",
       "    <tr>\n",
       "      <th>2</th>\n",
       "      <td>1.475600</td>\n",
       "      <td>0.017450</td>\n",
       "      <td>0.543783</td>\n",
       "      <td>0.100272</td>\n",
       "      <td>0.193503</td>\n",
       "      <td>-0.312109</td>\n",
       "      <td>-0.973236</td>\n",
       "      <td>0.358628</td>\n",
       "      <td>0.475053</td>\n",
       "      <td>-0.436771</td>\n",
       "      <td>-0.336633</td>\n",
       "      <td>1</td>\n",
       "    </tr>\n",
       "    <tr>\n",
       "      <th>3</th>\n",
       "      <td>0.409083</td>\n",
       "      <td>-0.478608</td>\n",
       "      <td>-0.117266</td>\n",
       "      <td>0.415726</td>\n",
       "      <td>0.559670</td>\n",
       "      <td>0.687471</td>\n",
       "      <td>1.120977</td>\n",
       "      <td>0.525802</td>\n",
       "      <td>0.011479</td>\n",
       "      <td>-0.787262</td>\n",
       "      <td>-0.499152</td>\n",
       "      <td>1</td>\n",
       "    </tr>\n",
       "    <tr>\n",
       "      <th>4</th>\n",
       "      <td>0.409083</td>\n",
       "      <td>-0.478608</td>\n",
       "      <td>-0.117266</td>\n",
       "      <td>0.415726</td>\n",
       "      <td>0.559670</td>\n",
       "      <td>0.687471</td>\n",
       "      <td>1.120977</td>\n",
       "      <td>0.525802</td>\n",
       "      <td>0.011479</td>\n",
       "      <td>-0.787262</td>\n",
       "      <td>-0.499152</td>\n",
       "      <td>1</td>\n",
       "    </tr>\n",
       "  </tbody>\n",
       "</table>\n",
       "</div>"
      ],
      "text/plain": [
       "   fixed acidity  volatile acidity  citric acid  residual sugar  chlorides  \\\n",
       "0       0.172079         -0.081762     0.213258        2.821061  -0.035351   \n",
       "1      -0.657434          0.215874     0.047996       -0.944669   0.147732   \n",
       "2       1.475600          0.017450     0.543783        0.100272   0.193503   \n",
       "3       0.409083         -0.478608    -0.117266        0.415726   0.559670   \n",
       "4       0.409083         -0.478608    -0.117266        0.415726   0.559670   \n",
       "\n",
       "   free sulfur dioxide  total sulfur dioxide   density        pH  sulphates  \\\n",
       "0             0.569873              0.744489  2.331274 -1.246794  -0.349149   \n",
       "1            -1.252891             -0.149669 -0.009153  0.739953   0.001342   \n",
       "2            -0.312109             -0.973236  0.358628  0.475053  -0.436771   \n",
       "3             0.687471              1.120977  0.525802  0.011479  -0.787262   \n",
       "4             0.687471              1.120977  0.525802  0.011479  -0.787262   \n",
       "\n",
       "    alcohol quality  \n",
       "0 -1.393010       1  \n",
       "1 -0.824192       1  \n",
       "2 -0.336633       1  \n",
       "3 -0.499152       1  \n",
       "4 -0.499152       1  "
      ]
     },
     "execution_count": 14,
     "metadata": {},
     "output_type": "execute_result"
    }
   ],
   "source": [
    "df1.head()"
   ]
  },
  {
   "cell_type": "code",
   "execution_count": 27,
   "metadata": {
    "collapsed": true
   },
   "outputs": [],
   "source": [
    "df1.to_csv('wine_clean.csv', index=False)"
   ]
  },
  {
   "cell_type": "code",
   "execution_count": 58,
   "metadata": {},
   "outputs": [
    {
     "data": {
      "text/html": [
       "<div>\n",
       "<style>\n",
       "    .dataframe thead tr:only-child th {\n",
       "        text-align: right;\n",
       "    }\n",
       "\n",
       "    .dataframe thead th {\n",
       "        text-align: left;\n",
       "    }\n",
       "\n",
       "    .dataframe tbody tr th {\n",
       "        vertical-align: top;\n",
       "    }\n",
       "</style>\n",
       "<table border=\"1\" class=\"dataframe\">\n",
       "  <thead>\n",
       "    <tr style=\"text-align: right;\">\n",
       "      <th></th>\n",
       "      <th>quality</th>\n",
       "      <th>predictor variable</th>\n",
       "      <th>value</th>\n",
       "    </tr>\n",
       "  </thead>\n",
       "  <tbody>\n",
       "    <tr>\n",
       "      <th>0</th>\n",
       "      <td>poor</td>\n",
       "      <td>fixed acidity</td>\n",
       "      <td>0.172079</td>\n",
       "    </tr>\n",
       "    <tr>\n",
       "      <th>1</th>\n",
       "      <td>poor</td>\n",
       "      <td>fixed acidity</td>\n",
       "      <td>-0.657434</td>\n",
       "    </tr>\n",
       "    <tr>\n",
       "      <th>2</th>\n",
       "      <td>poor</td>\n",
       "      <td>fixed acidity</td>\n",
       "      <td>1.475600</td>\n",
       "    </tr>\n",
       "    <tr>\n",
       "      <th>3</th>\n",
       "      <td>poor</td>\n",
       "      <td>fixed acidity</td>\n",
       "      <td>0.409083</td>\n",
       "    </tr>\n",
       "    <tr>\n",
       "      <th>4</th>\n",
       "      <td>poor</td>\n",
       "      <td>fixed acidity</td>\n",
       "      <td>0.409083</td>\n",
       "    </tr>\n",
       "  </tbody>\n",
       "</table>\n",
       "</div>"
      ],
      "text/plain": [
       "  quality predictor variable     value\n",
       "0    poor      fixed acidity  0.172079\n",
       "1    poor      fixed acidity -0.657434\n",
       "2    poor      fixed acidity  1.475600\n",
       "3    poor      fixed acidity  0.409083\n",
       "4    poor      fixed acidity  0.409083"
      ]
     },
     "execution_count": 58,
     "metadata": {},
     "output_type": "execute_result"
    }
   ],
   "source": [
    "melted_df = pd.melt(df1, \n",
    "                    id_vars=[\"quality\"], # Variables to keep\n",
    "                    var_name=\"predictor variable\") # Name of melted variable\n",
    "melted_df.head()"
   ]
  },
  {
   "cell_type": "code",
   "execution_count": 60,
   "metadata": {},
   "outputs": [
    {
     "data": {
      "text/plain": [
       "(-3, 4)"
      ]
     },
     "execution_count": 60,
     "metadata": {},
     "output_type": "execute_result"
    },
    {
     "data": {
      "image/png": "[encoded data removed]",
      "text/plain": [
       "<matplotlib.figure.Figure at 0x1118a80f0>"
      ]
     },
     "metadata": {},
     "output_type": "display_data"
    }
   ],
   "source": [
    "plt.figure(figsize=(7,4))\n",
    " \n",
    "sns.violinplot(x='predictor variable', \n",
    "              y='value', \n",
    "              data=melted_df, \n",
    "              hue='quality') \n",
    "\n",
    "plt.xticks(rotation='vertical')\n",
    "plt.ylim(-3, 4)  \n"
   ]
  },
  {
   "cell_type": "code",
   "execution_count": 20,
   "metadata": {},
   "outputs": [
    {
     "name": "stdout",
     "output_type": "stream",
     "text": [
      "(53878, 3)\n"
     ]
    }
   ],
   "source": [
    "\n",
    "print( melted_df.shape )\n"
   ]
  },
  {
   "cell_type": "code",
   "execution_count": null,
   "metadata": {
    "collapsed": true
   },
   "outputs": [],
   "source": []
  }
 ],
 "metadata": {
  "kernelspec": {
   "display_name": "Python 3",
   "language": "python",
   "name": "python3"
  },
  "language_info": {
   "codemirror_mode": {
    "name": "ipython",
    "version": 3
   },
   "file_extension": ".py",
   "mimetype": "text/x-python",
   "name": "python",
   "nbconvert_exporter": "python",
   "pygments_lexer": "ipython3",
   "version": "3.6.3"
  }
 },
 "nbformat": 4,
 "nbformat_minor": 2
}
